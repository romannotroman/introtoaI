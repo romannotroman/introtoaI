{
 "cells": [
  {
   "cell_type": "markdown",
   "metadata": {},
   "source": [
    "# Into to Artificial Intelligence for non tech people"
   ]
  },
  {
   "cell_type": "markdown",
   "metadata": {},
   "source": [
    "### Todo:\n",
    "\n",
    "- Method for doing research.\n",
    "- Research on \"Basics\". How to explain A.I?\n",
    "- Research on \"Current developments\". \n",
    "    - Cases and what is approaches currently used to solve real world problems.\n",
    "- Research on \"Implication and impact\". Cases:\n",
    "    - Automation\n",
    "    - Government, regulation, policy\n",
    "    - Law\n",
    "    - Ethics\n",
    "   "
   ]
  },
  {
   "cell_type": "markdown",
   "metadata": {},
   "source": [
    "# Plan\n",
    "\n",
    "1. History.\n",
    "2. Basics. Framework for understanding A.I. \n",
    "3. Current developments in the field and applications. \n",
    "4. Implications and impact."
   ]
  },
  {
   "cell_type": "markdown",
   "metadata": {},
   "source": [
    "## Key concepts\n",
    "\n",
    "\n",
    "- Artificial Intelligence. Narrow and General Artificial Intelligence\n",
    "- Artificial Neuron and Neural Nets\n",
    "- Data representation\n",
    "- Universal Approximator\n",
    "- Machine Learning\n",
    "- Supervised and Unsupervised Learning\n",
    "- Reiforcement Learning\n",
    "- Deep Learning\n",
    "- ? Transfer Learning\n",
    "\n",
    "### General concepts:\n",
    "- Arfiticial Intelligence Winter\n",
    "- AI-First World"
   ]
  },
  {
   "cell_type": "markdown",
   "metadata": {},
   "source": [
    "### Notes and links:\n",
    "\n",
    "- AI Timeline http://www.bbc.co.uk/timelines/zq376fr\n",
    "- https://medium.com/mit-initiative-on-the-digital-economy/ai-and-machine-learning-disruption-timeline-ab589b873dfc\n",
    "- EFF AI progress https://www.eff.org/ai/metrics\n",
    "\n"
   ]
  },
  {
   "cell_type": "markdown",
   "metadata": {},
   "source": [
    "### History\n",
    "1. How humans came to think about intelligent machines.\n",
    "2. Birthday of AI.\n",
    "3. Maturity.\n",
    "4. The Rise of AI in the Modern World."
   ]
  },
  {
   "cell_type": "markdown",
   "metadata": {},
   "source": [
    "### Basics. Framework for understanding AI.\n",
    "\n",
    "1. Data\n",
    "2. Representation of data.\n",
    "3. Universal approximation"
   ]
  },
  {
   "cell_type": "code",
   "execution_count": null,
   "metadata": {
    "collapsed": true
   },
   "outputs": [],
   "source": []
  }
 ],
 "metadata": {
  "kernelspec": {
   "display_name": "Python 3",
   "language": "python",
   "name": "python3"
  },
  "language_info": {
   "codemirror_mode": {
    "name": "ipython",
    "version": 3
   },
   "file_extension": ".py",
   "mimetype": "text/x-python",
   "name": "python",
   "nbconvert_exporter": "python",
   "pygments_lexer": "ipython3",
   "version": "3.6.1"
  }
 },
 "nbformat": 4,
 "nbformat_minor": 2
}
